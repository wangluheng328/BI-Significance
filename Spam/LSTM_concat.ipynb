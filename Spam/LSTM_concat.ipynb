{
  "nbformat": 4,
  "nbformat_minor": 0,
  "metadata": {
    "colab": {
      "name": "LSTM_concat.ipynb",
      "provenance": [],
      "collapsed_sections": [],
      "toc_visible": true
    },
    "kernelspec": {
      "name": "python3",
      "display_name": "Python 3"
    },
    "widgets": {
      "application/vnd.jupyter.widget-state+json": {
        "4834797c8f1b4f09a94cd1f551301769": {
          "model_module": "@jupyter-widgets/controls",
          "model_name": "HBoxModel",
          "state": {
            "_view_name": "HBoxView",
            "_dom_classes": [],
            "_model_name": "HBoxModel",
            "_view_module": "@jupyter-widgets/controls",
            "_model_module_version": "1.5.0",
            "_view_count": null,
            "_view_module_version": "1.5.0",
            "box_style": "",
            "layout": "IPY_MODEL_9b805c4c8d1c4485966aeb81ad7595e8",
            "_model_module": "@jupyter-widgets/controls",
            "children": [
              "IPY_MODEL_973e36d437bc4649b0e5579de5753a94",
              "IPY_MODEL_c67f2078ec6d4cf480c17df46384d8b3"
            ]
          }
        },
        "9b805c4c8d1c4485966aeb81ad7595e8": {
          "model_module": "@jupyter-widgets/base",
          "model_name": "LayoutModel",
          "state": {
            "_view_name": "LayoutView",
            "grid_template_rows": null,
            "right": null,
            "justify_content": null,
            "_view_module": "@jupyter-widgets/base",
            "overflow": null,
            "_model_module_version": "1.2.0",
            "_view_count": null,
            "flex_flow": null,
            "width": null,
            "min_width": null,
            "border": null,
            "align_items": null,
            "bottom": null,
            "_model_module": "@jupyter-widgets/base",
            "top": null,
            "grid_column": null,
            "overflow_y": null,
            "overflow_x": null,
            "grid_auto_flow": null,
            "grid_area": null,
            "grid_template_columns": null,
            "flex": null,
            "_model_name": "LayoutModel",
            "justify_items": null,
            "grid_row": null,
            "max_height": null,
            "align_content": null,
            "visibility": null,
            "align_self": null,
            "height": null,
            "min_height": null,
            "padding": null,
            "grid_auto_rows": null,
            "grid_gap": null,
            "max_width": null,
            "order": null,
            "_view_module_version": "1.2.0",
            "grid_template_areas": null,
            "object_position": null,
            "object_fit": null,
            "grid_auto_columns": null,
            "margin": null,
            "display": null,
            "left": null
          }
        },
        "973e36d437bc4649b0e5579de5753a94": {
          "model_module": "@jupyter-widgets/controls",
          "model_name": "FloatProgressModel",
          "state": {
            "_view_name": "ProgressView",
            "style": "IPY_MODEL_a7c70f2584f84b90859af58691c38c93",
            "_dom_classes": [],
            "description": "100%",
            "_model_name": "FloatProgressModel",
            "bar_style": "success",
            "max": 3902,
            "_view_module": "@jupyter-widgets/controls",
            "_model_module_version": "1.5.0",
            "value": 3902,
            "_view_count": null,
            "_view_module_version": "1.5.0",
            "orientation": "horizontal",
            "min": 0,
            "description_tooltip": null,
            "_model_module": "@jupyter-widgets/controls",
            "layout": "IPY_MODEL_bd62c3f2d5654e4f90f57233a7a2af6c"
          }
        },
        "c67f2078ec6d4cf480c17df46384d8b3": {
          "model_module": "@jupyter-widgets/controls",
          "model_name": "HTMLModel",
          "state": {
            "_view_name": "HTMLView",
            "style": "IPY_MODEL_7e710729f9b740de84a66903d954e72e",
            "_dom_classes": [],
            "description": "",
            "_model_name": "HTMLModel",
            "placeholder": "​",
            "_view_module": "@jupyter-widgets/controls",
            "_model_module_version": "1.5.0",
            "value": " 3902/3902 [00:02&lt;00:00, 1570.77it/s]",
            "_view_count": null,
            "_view_module_version": "1.5.0",
            "description_tooltip": null,
            "_model_module": "@jupyter-widgets/controls",
            "layout": "IPY_MODEL_68c4b49b0d414595ad2c50ee966c1078"
          }
        },
        "a7c70f2584f84b90859af58691c38c93": {
          "model_module": "@jupyter-widgets/controls",
          "model_name": "ProgressStyleModel",
          "state": {
            "_view_name": "StyleView",
            "_model_name": "ProgressStyleModel",
            "description_width": "initial",
            "_view_module": "@jupyter-widgets/base",
            "_model_module_version": "1.5.0",
            "_view_count": null,
            "_view_module_version": "1.2.0",
            "bar_color": null,
            "_model_module": "@jupyter-widgets/controls"
          }
        },
        "bd62c3f2d5654e4f90f57233a7a2af6c": {
          "model_module": "@jupyter-widgets/base",
          "model_name": "LayoutModel",
          "state": {
            "_view_name": "LayoutView",
            "grid_template_rows": null,
            "right": null,
            "justify_content": null,
            "_view_module": "@jupyter-widgets/base",
            "overflow": null,
            "_model_module_version": "1.2.0",
            "_view_count": null,
            "flex_flow": null,
            "width": null,
            "min_width": null,
            "border": null,
            "align_items": null,
            "bottom": null,
            "_model_module": "@jupyter-widgets/base",
            "top": null,
            "grid_column": null,
            "overflow_y": null,
            "overflow_x": null,
            "grid_auto_flow": null,
            "grid_area": null,
            "grid_template_columns": null,
            "flex": null,
            "_model_name": "LayoutModel",
            "justify_items": null,
            "grid_row": null,
            "max_height": null,
            "align_content": null,
            "visibility": null,
            "align_self": null,
            "height": null,
            "min_height": null,
            "padding": null,
            "grid_auto_rows": null,
            "grid_gap": null,
            "max_width": null,
            "order": null,
            "_view_module_version": "1.2.0",
            "grid_template_areas": null,
            "object_position": null,
            "object_fit": null,
            "grid_auto_columns": null,
            "margin": null,
            "display": null,
            "left": null
          }
        },
        "7e710729f9b740de84a66903d954e72e": {
          "model_module": "@jupyter-widgets/controls",
          "model_name": "DescriptionStyleModel",
          "state": {
            "_view_name": "StyleView",
            "_model_name": "DescriptionStyleModel",
            "description_width": "",
            "_view_module": "@jupyter-widgets/base",
            "_model_module_version": "1.5.0",
            "_view_count": null,
            "_view_module_version": "1.2.0",
            "_model_module": "@jupyter-widgets/controls"
          }
        },
        "68c4b49b0d414595ad2c50ee966c1078": {
          "model_module": "@jupyter-widgets/base",
          "model_name": "LayoutModel",
          "state": {
            "_view_name": "LayoutView",
            "grid_template_rows": null,
            "right": null,
            "justify_content": null,
            "_view_module": "@jupyter-widgets/base",
            "overflow": null,
            "_model_module_version": "1.2.0",
            "_view_count": null,
            "flex_flow": null,
            "width": null,
            "min_width": null,
            "border": null,
            "align_items": null,
            "bottom": null,
            "_model_module": "@jupyter-widgets/base",
            "top": null,
            "grid_column": null,
            "overflow_y": null,
            "overflow_x": null,
            "grid_auto_flow": null,
            "grid_area": null,
            "grid_template_columns": null,
            "flex": null,
            "_model_name": "LayoutModel",
            "justify_items": null,
            "grid_row": null,
            "max_height": null,
            "align_content": null,
            "visibility": null,
            "align_self": null,
            "height": null,
            "min_height": null,
            "padding": null,
            "grid_auto_rows": null,
            "grid_gap": null,
            "max_width": null,
            "order": null,
            "_view_module_version": "1.2.0",
            "grid_template_areas": null,
            "object_position": null,
            "object_fit": null,
            "grid_auto_columns": null,
            "margin": null,
            "display": null,
            "left": null
          }
        },
        "187a07596ea1413ca4b4cd25aec4b68b": {
          "model_module": "@jupyter-widgets/controls",
          "model_name": "HBoxModel",
          "state": {
            "_view_name": "HBoxView",
            "_dom_classes": [],
            "_model_name": "HBoxModel",
            "_view_module": "@jupyter-widgets/controls",
            "_model_module_version": "1.5.0",
            "_view_count": null,
            "_view_module_version": "1.5.0",
            "box_style": "",
            "layout": "IPY_MODEL_f334310e35184e77bfe51521ea213dab",
            "_model_module": "@jupyter-widgets/controls",
            "children": [
              "IPY_MODEL_cf33be10ad20487cba9855b8f3735bb7",
              "IPY_MODEL_f8715f71c4b542339c0bbd422d65de41"
            ]
          }
        },
        "f334310e35184e77bfe51521ea213dab": {
          "model_module": "@jupyter-widgets/base",
          "model_name": "LayoutModel",
          "state": {
            "_view_name": "LayoutView",
            "grid_template_rows": null,
            "right": null,
            "justify_content": null,
            "_view_module": "@jupyter-widgets/base",
            "overflow": null,
            "_model_module_version": "1.2.0",
            "_view_count": null,
            "flex_flow": null,
            "width": null,
            "min_width": null,
            "border": null,
            "align_items": null,
            "bottom": null,
            "_model_module": "@jupyter-widgets/base",
            "top": null,
            "grid_column": null,
            "overflow_y": null,
            "overflow_x": null,
            "grid_auto_flow": null,
            "grid_area": null,
            "grid_template_columns": null,
            "flex": null,
            "_model_name": "LayoutModel",
            "justify_items": null,
            "grid_row": null,
            "max_height": null,
            "align_content": null,
            "visibility": null,
            "align_self": null,
            "height": null,
            "min_height": null,
            "padding": null,
            "grid_auto_rows": null,
            "grid_gap": null,
            "max_width": null,
            "order": null,
            "_view_module_version": "1.2.0",
            "grid_template_areas": null,
            "object_position": null,
            "object_fit": null,
            "grid_auto_columns": null,
            "margin": null,
            "display": null,
            "left": null
          }
        },
        "cf33be10ad20487cba9855b8f3735bb7": {
          "model_module": "@jupyter-widgets/controls",
          "model_name": "FloatProgressModel",
          "state": {
            "_view_name": "ProgressView",
            "style": "IPY_MODEL_6f934d7ee9614164b515937b60415d35",
            "_dom_classes": [],
            "description": "100%",
            "_model_name": "FloatProgressModel",
            "bar_style": "success",
            "max": 835,
            "_view_module": "@jupyter-widgets/controls",
            "_model_module_version": "1.5.0",
            "value": 835,
            "_view_count": null,
            "_view_module_version": "1.5.0",
            "orientation": "horizontal",
            "min": 0,
            "description_tooltip": null,
            "_model_module": "@jupyter-widgets/controls",
            "layout": "IPY_MODEL_9d8b37d1666e4aa1bce42481bae36b14"
          }
        },
        "f8715f71c4b542339c0bbd422d65de41": {
          "model_module": "@jupyter-widgets/controls",
          "model_name": "HTMLModel",
          "state": {
            "_view_name": "HTMLView",
            "style": "IPY_MODEL_e20ac35c5ad14b8da1a7e4c9a556e723",
            "_dom_classes": [],
            "description": "",
            "_model_name": "HTMLModel",
            "placeholder": "​",
            "_view_module": "@jupyter-widgets/controls",
            "_model_module_version": "1.5.0",
            "value": " 835/835 [00:12&lt;00:00, 66.84it/s]",
            "_view_count": null,
            "_view_module_version": "1.5.0",
            "description_tooltip": null,
            "_model_module": "@jupyter-widgets/controls",
            "layout": "IPY_MODEL_41f00c00d41946e198776737c3d79f8a"
          }
        },
        "6f934d7ee9614164b515937b60415d35": {
          "model_module": "@jupyter-widgets/controls",
          "model_name": "ProgressStyleModel",
          "state": {
            "_view_name": "StyleView",
            "_model_name": "ProgressStyleModel",
            "description_width": "initial",
            "_view_module": "@jupyter-widgets/base",
            "_model_module_version": "1.5.0",
            "_view_count": null,
            "_view_module_version": "1.2.0",
            "bar_color": null,
            "_model_module": "@jupyter-widgets/controls"
          }
        },
        "9d8b37d1666e4aa1bce42481bae36b14": {
          "model_module": "@jupyter-widgets/base",
          "model_name": "LayoutModel",
          "state": {
            "_view_name": "LayoutView",
            "grid_template_rows": null,
            "right": null,
            "justify_content": null,
            "_view_module": "@jupyter-widgets/base",
            "overflow": null,
            "_model_module_version": "1.2.0",
            "_view_count": null,
            "flex_flow": null,
            "width": null,
            "min_width": null,
            "border": null,
            "align_items": null,
            "bottom": null,
            "_model_module": "@jupyter-widgets/base",
            "top": null,
            "grid_column": null,
            "overflow_y": null,
            "overflow_x": null,
            "grid_auto_flow": null,
            "grid_area": null,
            "grid_template_columns": null,
            "flex": null,
            "_model_name": "LayoutModel",
            "justify_items": null,
            "grid_row": null,
            "max_height": null,
            "align_content": null,
            "visibility": null,
            "align_self": null,
            "height": null,
            "min_height": null,
            "padding": null,
            "grid_auto_rows": null,
            "grid_gap": null,
            "max_width": null,
            "order": null,
            "_view_module_version": "1.2.0",
            "grid_template_areas": null,
            "object_position": null,
            "object_fit": null,
            "grid_auto_columns": null,
            "margin": null,
            "display": null,
            "left": null
          }
        },
        "e20ac35c5ad14b8da1a7e4c9a556e723": {
          "model_module": "@jupyter-widgets/controls",
          "model_name": "DescriptionStyleModel",
          "state": {
            "_view_name": "StyleView",
            "_model_name": "DescriptionStyleModel",
            "description_width": "",
            "_view_module": "@jupyter-widgets/base",
            "_model_module_version": "1.5.0",
            "_view_count": null,
            "_view_module_version": "1.2.0",
            "_model_module": "@jupyter-widgets/controls"
          }
        },
        "41f00c00d41946e198776737c3d79f8a": {
          "model_module": "@jupyter-widgets/base",
          "model_name": "LayoutModel",
          "state": {
            "_view_name": "LayoutView",
            "grid_template_rows": null,
            "right": null,
            "justify_content": null,
            "_view_module": "@jupyter-widgets/base",
            "overflow": null,
            "_model_module_version": "1.2.0",
            "_view_count": null,
            "flex_flow": null,
            "width": null,
            "min_width": null,
            "border": null,
            "align_items": null,
            "bottom": null,
            "_model_module": "@jupyter-widgets/base",
            "top": null,
            "grid_column": null,
            "overflow_y": null,
            "overflow_x": null,
            "grid_auto_flow": null,
            "grid_area": null,
            "grid_template_columns": null,
            "flex": null,
            "_model_name": "LayoutModel",
            "justify_items": null,
            "grid_row": null,
            "max_height": null,
            "align_content": null,
            "visibility": null,
            "align_self": null,
            "height": null,
            "min_height": null,
            "padding": null,
            "grid_auto_rows": null,
            "grid_gap": null,
            "max_width": null,
            "order": null,
            "_view_module_version": "1.2.0",
            "grid_template_areas": null,
            "object_position": null,
            "object_fit": null,
            "grid_auto_columns": null,
            "margin": null,
            "display": null,
            "left": null
          }
        },
        "a15cdb848d2e419b97853c98ff072ec1": {
          "model_module": "@jupyter-widgets/controls",
          "model_name": "HBoxModel",
          "state": {
            "_view_name": "HBoxView",
            "_dom_classes": [],
            "_model_name": "HBoxModel",
            "_view_module": "@jupyter-widgets/controls",
            "_model_module_version": "1.5.0",
            "_view_count": null,
            "_view_module_version": "1.5.0",
            "box_style": "",
            "layout": "IPY_MODEL_62f495a4bc624b70a05b6438b906e229",
            "_model_module": "@jupyter-widgets/controls",
            "children": [
              "IPY_MODEL_9c6a651bcd044fa884c472bddb7ba2c3",
              "IPY_MODEL_c790a3b12ea5455481e948a582888e26"
            ]
          }
        },
        "62f495a4bc624b70a05b6438b906e229": {
          "model_module": "@jupyter-widgets/base",
          "model_name": "LayoutModel",
          "state": {
            "_view_name": "LayoutView",
            "grid_template_rows": null,
            "right": null,
            "justify_content": null,
            "_view_module": "@jupyter-widgets/base",
            "overflow": null,
            "_model_module_version": "1.2.0",
            "_view_count": null,
            "flex_flow": null,
            "width": null,
            "min_width": null,
            "border": null,
            "align_items": null,
            "bottom": null,
            "_model_module": "@jupyter-widgets/base",
            "top": null,
            "grid_column": null,
            "overflow_y": null,
            "overflow_x": null,
            "grid_auto_flow": null,
            "grid_area": null,
            "grid_template_columns": null,
            "flex": null,
            "_model_name": "LayoutModel",
            "justify_items": null,
            "grid_row": null,
            "max_height": null,
            "align_content": null,
            "visibility": null,
            "align_self": null,
            "height": null,
            "min_height": null,
            "padding": null,
            "grid_auto_rows": null,
            "grid_gap": null,
            "max_width": null,
            "order": null,
            "_view_module_version": "1.2.0",
            "grid_template_areas": null,
            "object_position": null,
            "object_fit": null,
            "grid_auto_columns": null,
            "margin": null,
            "display": null,
            "left": null
          }
        },
        "9c6a651bcd044fa884c472bddb7ba2c3": {
          "model_module": "@jupyter-widgets/controls",
          "model_name": "FloatProgressModel",
          "state": {
            "_view_name": "ProgressView",
            "style": "IPY_MODEL_fbde4aca0c28410c9a46b385d85cd67e",
            "_dom_classes": [],
            "description": "100%",
            "_model_name": "FloatProgressModel",
            "bar_style": "success",
            "max": 835,
            "_view_module": "@jupyter-widgets/controls",
            "_model_module_version": "1.5.0",
            "value": 835,
            "_view_count": null,
            "_view_module_version": "1.5.0",
            "orientation": "horizontal",
            "min": 0,
            "description_tooltip": null,
            "_model_module": "@jupyter-widgets/controls",
            "layout": "IPY_MODEL_6368ed5a4e274fcc9c4562fc540e5264"
          }
        },
        "c790a3b12ea5455481e948a582888e26": {
          "model_module": "@jupyter-widgets/controls",
          "model_name": "HTMLModel",
          "state": {
            "_view_name": "HTMLView",
            "style": "IPY_MODEL_abfcb46cf90044098d69cb6d79ea5849",
            "_dom_classes": [],
            "description": "",
            "_model_name": "HTMLModel",
            "placeholder": "​",
            "_view_module": "@jupyter-widgets/controls",
            "_model_module_version": "1.5.0",
            "value": " 835/835 [00:11&lt;00:00, 70.04it/s]",
            "_view_count": null,
            "_view_module_version": "1.5.0",
            "description_tooltip": null,
            "_model_module": "@jupyter-widgets/controls",
            "layout": "IPY_MODEL_76439ca58b954f3cabef067b381cf5a3"
          }
        },
        "fbde4aca0c28410c9a46b385d85cd67e": {
          "model_module": "@jupyter-widgets/controls",
          "model_name": "ProgressStyleModel",
          "state": {
            "_view_name": "StyleView",
            "_model_name": "ProgressStyleModel",
            "description_width": "initial",
            "_view_module": "@jupyter-widgets/base",
            "_model_module_version": "1.5.0",
            "_view_count": null,
            "_view_module_version": "1.2.0",
            "bar_color": null,
            "_model_module": "@jupyter-widgets/controls"
          }
        },
        "6368ed5a4e274fcc9c4562fc540e5264": {
          "model_module": "@jupyter-widgets/base",
          "model_name": "LayoutModel",
          "state": {
            "_view_name": "LayoutView",
            "grid_template_rows": null,
            "right": null,
            "justify_content": null,
            "_view_module": "@jupyter-widgets/base",
            "overflow": null,
            "_model_module_version": "1.2.0",
            "_view_count": null,
            "flex_flow": null,
            "width": null,
            "min_width": null,
            "border": null,
            "align_items": null,
            "bottom": null,
            "_model_module": "@jupyter-widgets/base",
            "top": null,
            "grid_column": null,
            "overflow_y": null,
            "overflow_x": null,
            "grid_auto_flow": null,
            "grid_area": null,
            "grid_template_columns": null,
            "flex": null,
            "_model_name": "LayoutModel",
            "justify_items": null,
            "grid_row": null,
            "max_height": null,
            "align_content": null,
            "visibility": null,
            "align_self": null,
            "height": null,
            "min_height": null,
            "padding": null,
            "grid_auto_rows": null,
            "grid_gap": null,
            "max_width": null,
            "order": null,
            "_view_module_version": "1.2.0",
            "grid_template_areas": null,
            "object_position": null,
            "object_fit": null,
            "grid_auto_columns": null,
            "margin": null,
            "display": null,
            "left": null
          }
        },
        "abfcb46cf90044098d69cb6d79ea5849": {
          "model_module": "@jupyter-widgets/controls",
          "model_name": "DescriptionStyleModel",
          "state": {
            "_view_name": "StyleView",
            "_model_name": "DescriptionStyleModel",
            "description_width": "",
            "_view_module": "@jupyter-widgets/base",
            "_model_module_version": "1.5.0",
            "_view_count": null,
            "_view_module_version": "1.2.0",
            "_model_module": "@jupyter-widgets/controls"
          }
        },
        "76439ca58b954f3cabef067b381cf5a3": {
          "model_module": "@jupyter-widgets/base",
          "model_name": "LayoutModel",
          "state": {
            "_view_name": "LayoutView",
            "grid_template_rows": null,
            "right": null,
            "justify_content": null,
            "_view_module": "@jupyter-widgets/base",
            "overflow": null,
            "_model_module_version": "1.2.0",
            "_view_count": null,
            "flex_flow": null,
            "width": null,
            "min_width": null,
            "border": null,
            "align_items": null,
            "bottom": null,
            "_model_module": "@jupyter-widgets/base",
            "top": null,
            "grid_column": null,
            "overflow_y": null,
            "overflow_x": null,
            "grid_auto_flow": null,
            "grid_area": null,
            "grid_template_columns": null,
            "flex": null,
            "_model_name": "LayoutModel",
            "justify_items": null,
            "grid_row": null,
            "max_height": null,
            "align_content": null,
            "visibility": null,
            "align_self": null,
            "height": null,
            "min_height": null,
            "padding": null,
            "grid_auto_rows": null,
            "grid_gap": null,
            "max_width": null,
            "order": null,
            "_view_module_version": "1.2.0",
            "grid_template_areas": null,
            "object_position": null,
            "object_fit": null,
            "grid_auto_columns": null,
            "margin": null,
            "display": null,
            "left": null
          }
        },
        "1e8f1d61afef4b39a87560bc56f20b46": {
          "model_module": "@jupyter-widgets/controls",
          "model_name": "HBoxModel",
          "state": {
            "_view_name": "HBoxView",
            "_dom_classes": [],
            "_model_name": "HBoxModel",
            "_view_module": "@jupyter-widgets/controls",
            "_model_module_version": "1.5.0",
            "_view_count": null,
            "_view_module_version": "1.5.0",
            "box_style": "",
            "layout": "IPY_MODEL_70cf70e89c6e4e448f136ef3cf5c6900",
            "_model_module": "@jupyter-widgets/controls",
            "children": [
              "IPY_MODEL_627019d241f241e69dbeba8e757f9ec0",
              "IPY_MODEL_c2fb0663da4d4f268a9f59f12391135a"
            ]
          }
        },
        "70cf70e89c6e4e448f136ef3cf5c6900": {
          "model_module": "@jupyter-widgets/base",
          "model_name": "LayoutModel",
          "state": {
            "_view_name": "LayoutView",
            "grid_template_rows": null,
            "right": null,
            "justify_content": null,
            "_view_module": "@jupyter-widgets/base",
            "overflow": null,
            "_model_module_version": "1.2.0",
            "_view_count": null,
            "flex_flow": null,
            "width": null,
            "min_width": null,
            "border": null,
            "align_items": null,
            "bottom": null,
            "_model_module": "@jupyter-widgets/base",
            "top": null,
            "grid_column": null,
            "overflow_y": null,
            "overflow_x": null,
            "grid_auto_flow": null,
            "grid_area": null,
            "grid_template_columns": null,
            "flex": null,
            "_model_name": "LayoutModel",
            "justify_items": null,
            "grid_row": null,
            "max_height": null,
            "align_content": null,
            "visibility": null,
            "align_self": null,
            "height": null,
            "min_height": null,
            "padding": null,
            "grid_auto_rows": null,
            "grid_gap": null,
            "max_width": null,
            "order": null,
            "_view_module_version": "1.2.0",
            "grid_template_areas": null,
            "object_position": null,
            "object_fit": null,
            "grid_auto_columns": null,
            "margin": null,
            "display": null,
            "left": null
          }
        },
        "627019d241f241e69dbeba8e757f9ec0": {
          "model_module": "@jupyter-widgets/controls",
          "model_name": "FloatProgressModel",
          "state": {
            "_view_name": "ProgressView",
            "style": "IPY_MODEL_5342c55f12e94ab4a86771d33b0a6cb0",
            "_dom_classes": [],
            "description": " 60%",
            "_model_name": "FloatProgressModel",
            "bar_style": "danger",
            "max": 10,
            "_view_module": "@jupyter-widgets/controls",
            "_model_module_version": "1.5.0",
            "value": 6,
            "_view_count": null,
            "_view_module_version": "1.5.0",
            "orientation": "horizontal",
            "min": 0,
            "description_tooltip": null,
            "_model_module": "@jupyter-widgets/controls",
            "layout": "IPY_MODEL_58a0168d7f6042708bab5f208c2658e8"
          }
        },
        "c2fb0663da4d4f268a9f59f12391135a": {
          "model_module": "@jupyter-widgets/controls",
          "model_name": "HTMLModel",
          "state": {
            "_view_name": "HTMLView",
            "style": "IPY_MODEL_6447cd23707e4b19b4ff07c412a0ff34",
            "_dom_classes": [],
            "description": "",
            "_model_name": "HTMLModel",
            "placeholder": "​",
            "_view_module": "@jupyter-widgets/controls",
            "_model_module_version": "1.5.0",
            "value": " 6/10 [00:07&lt;00:04,  1.08s/it]",
            "_view_count": null,
            "_view_module_version": "1.5.0",
            "description_tooltip": null,
            "_model_module": "@jupyter-widgets/controls",
            "layout": "IPY_MODEL_f5c67a83d67845bfb1871297ab2a158d"
          }
        },
        "5342c55f12e94ab4a86771d33b0a6cb0": {
          "model_module": "@jupyter-widgets/controls",
          "model_name": "ProgressStyleModel",
          "state": {
            "_view_name": "StyleView",
            "_model_name": "ProgressStyleModel",
            "description_width": "initial",
            "_view_module": "@jupyter-widgets/base",
            "_model_module_version": "1.5.0",
            "_view_count": null,
            "_view_module_version": "1.2.0",
            "bar_color": null,
            "_model_module": "@jupyter-widgets/controls"
          }
        },
        "58a0168d7f6042708bab5f208c2658e8": {
          "model_module": "@jupyter-widgets/base",
          "model_name": "LayoutModel",
          "state": {
            "_view_name": "LayoutView",
            "grid_template_rows": null,
            "right": null,
            "justify_content": null,
            "_view_module": "@jupyter-widgets/base",
            "overflow": null,
            "_model_module_version": "1.2.0",
            "_view_count": null,
            "flex_flow": null,
            "width": null,
            "min_width": null,
            "border": null,
            "align_items": null,
            "bottom": null,
            "_model_module": "@jupyter-widgets/base",
            "top": null,
            "grid_column": null,
            "overflow_y": null,
            "overflow_x": null,
            "grid_auto_flow": null,
            "grid_area": null,
            "grid_template_columns": null,
            "flex": null,
            "_model_name": "LayoutModel",
            "justify_items": null,
            "grid_row": null,
            "max_height": null,
            "align_content": null,
            "visibility": null,
            "align_self": null,
            "height": null,
            "min_height": null,
            "padding": null,
            "grid_auto_rows": null,
            "grid_gap": null,
            "max_width": null,
            "order": null,
            "_view_module_version": "1.2.0",
            "grid_template_areas": null,
            "object_position": null,
            "object_fit": null,
            "grid_auto_columns": null,
            "margin": null,
            "display": null,
            "left": null
          }
        },
        "6447cd23707e4b19b4ff07c412a0ff34": {
          "model_module": "@jupyter-widgets/controls",
          "model_name": "DescriptionStyleModel",
          "state": {
            "_view_name": "StyleView",
            "_model_name": "DescriptionStyleModel",
            "description_width": "",
            "_view_module": "@jupyter-widgets/base",
            "_model_module_version": "1.5.0",
            "_view_count": null,
            "_view_module_version": "1.2.0",
            "_model_module": "@jupyter-widgets/controls"
          }
        },
        "f5c67a83d67845bfb1871297ab2a158d": {
          "model_module": "@jupyter-widgets/base",
          "model_name": "LayoutModel",
          "state": {
            "_view_name": "LayoutView",
            "grid_template_rows": null,
            "right": null,
            "justify_content": null,
            "_view_module": "@jupyter-widgets/base",
            "overflow": null,
            "_model_module_version": "1.2.0",
            "_view_count": null,
            "flex_flow": null,
            "width": null,
            "min_width": null,
            "border": null,
            "align_items": null,
            "bottom": null,
            "_model_module": "@jupyter-widgets/base",
            "top": null,
            "grid_column": null,
            "overflow_y": null,
            "overflow_x": null,
            "grid_auto_flow": null,
            "grid_area": null,
            "grid_template_columns": null,
            "flex": null,
            "_model_name": "LayoutModel",
            "justify_items": null,
            "grid_row": null,
            "max_height": null,
            "align_content": null,
            "visibility": null,
            "align_self": null,
            "height": null,
            "min_height": null,
            "padding": null,
            "grid_auto_rows": null,
            "grid_gap": null,
            "max_width": null,
            "order": null,
            "_view_module_version": "1.2.0",
            "grid_template_areas": null,
            "object_position": null,
            "object_fit": null,
            "grid_auto_columns": null,
            "margin": null,
            "display": null,
            "left": null
          }
        }
      }
    },
    "accelerator": "GPU"
  },
  "cells": [
    {
      "cell_type": "markdown",
      "metadata": {
        "id": "TKJv-b6RewJn"
      },
      "source": [
        "# Data Loading\n"
      ]
    },
    {
      "cell_type": "code",
      "metadata": {
        "id": "QoiahW1_fZ6p",
        "colab": {
          "base_uri": "https://localhost:8080/"
        },
        "collapsed": true,
        "outputId": "f6013fc3-3090-4a3b-f972-cf43f34cdec3"
      },
      "source": [
        "!wget 'https://docs.google.com/uc?export=download&id=1OVRo37agn02mc6yp5p6-wtJ8Hyb-YMXR' -O spam.csv"
      ],
      "execution_count": 1,
      "outputs": [
        {
          "output_type": "stream",
          "text": [
            "--2021-05-05 12:17:56--  https://docs.google.com/uc?export=download&id=1OVRo37agn02mc6yp5p6-wtJ8Hyb-YMXR\n",
            "Resolving docs.google.com (docs.google.com)... 74.125.195.102, 74.125.195.138, 74.125.195.113, ...\n",
            "Connecting to docs.google.com (docs.google.com)|74.125.195.102|:443... connected.\n",
            "HTTP request sent, awaiting response... 302 Moved Temporarily\n",
            "Location: https://doc-14-04-docs.googleusercontent.com/docs/securesc/ha0ro937gcuc7l7deffksulhg5h7mbp1/ib0hoqle07qgi7cbbfrefe2mjf5fl1g6/1620217050000/08752484438609855375/*/1OVRo37agn02mc6yp5p6-wtJ8Hyb-YMXR?e=download [following]\n",
            "Warning: wildcards not supported in HTTP.\n",
            "--2021-05-05 12:17:57--  https://doc-14-04-docs.googleusercontent.com/docs/securesc/ha0ro937gcuc7l7deffksulhg5h7mbp1/ib0hoqle07qgi7cbbfrefe2mjf5fl1g6/1620217050000/08752484438609855375/*/1OVRo37agn02mc6yp5p6-wtJ8Hyb-YMXR?e=download\n",
            "Resolving doc-14-04-docs.googleusercontent.com (doc-14-04-docs.googleusercontent.com)... 74.125.195.132, 2607:f8b0:400e:c09::84\n",
            "Connecting to doc-14-04-docs.googleusercontent.com (doc-14-04-docs.googleusercontent.com)|74.125.195.132|:443... connected.\n",
            "HTTP request sent, awaiting response... 200 OK\n",
            "Length: 503663 (492K) [text/csv]\n",
            "Saving to: ‘spam.csv’\n",
            "\n",
            "spam.csv            100%[===================>] 491.86K  --.-KB/s    in 0.004s  \n",
            "\n",
            "2021-05-05 12:17:58 (132 MB/s) - ‘spam.csv’ saved [503663/503663]\n",
            "\n"
          ],
          "name": "stdout"
        }
      ]
    },
    {
      "cell_type": "code",
      "metadata": {
        "id": "r0WnrtH6ZrOo"
      },
      "source": [
        "def rev_sentence(sentence): \n",
        "  \n",
        "    # first split the string into words \n",
        "    words = sentence.split(' ') \n",
        "  \n",
        "    # then reverse the split string list and join using space \n",
        "    reverse_sentence = ' '.join(reversed(words)) \n",
        "  \n",
        "    # finally return the joined string \n",
        "    return reverse_sentence \n",
        "    "
      ],
      "execution_count": 2,
      "outputs": []
    },
    {
      "cell_type": "code",
      "metadata": {
        "id": "ZEWtf5LGbM3d"
      },
      "source": [
        "def double_sentence(sentence):\n",
        "\n",
        "    return sentence + ' ' + sentence"
      ],
      "execution_count": 3,
      "outputs": []
    },
    {
      "cell_type": "code",
      "metadata": {
        "id": "LX_AnO85dYgW"
      },
      "source": [
        "def rev_concat(sentence):\n",
        "\n",
        "    return sentence + ' ' + rev_sentence(sentence)"
      ],
      "execution_count": 4,
      "outputs": []
    },
    {
      "cell_type": "code",
      "metadata": {
        "id": "I52OxyBgfi_j",
        "colab": {
          "base_uri": "https://localhost:8080/",
          "height": 198
        },
        "outputId": "c49714a8-fe1c-4336-8193-1d49526009bc"
      },
      "source": [
        "import pandas as pd\n",
        "import numpy as np\n",
        "\n",
        "df = pd.read_csv(\"spam.csv\", usecols=[\"v1\", \"v2\"], encoding='latin-1')\n",
        "# 1 - spam, 0 - ham\n",
        "df.v1 = (df.v1 == \"spam\").astype(\"int\")\n",
        "temp = df.v2.tolist()\n",
        "new_v2 = []\n",
        "for i in temp:\n",
        "  new_v2.append(rev_concat(i))\n",
        "df.v2 = new_v2\n",
        "df.head()"
      ],
      "execution_count": 5,
      "outputs": [
        {
          "output_type": "execute_result",
          "data": {
            "text/html": [
              "<div>\n",
              "<style scoped>\n",
              "    .dataframe tbody tr th:only-of-type {\n",
              "        vertical-align: middle;\n",
              "    }\n",
              "\n",
              "    .dataframe tbody tr th {\n",
              "        vertical-align: top;\n",
              "    }\n",
              "\n",
              "    .dataframe thead th {\n",
              "        text-align: right;\n",
              "    }\n",
              "</style>\n",
              "<table border=\"1\" class=\"dataframe\">\n",
              "  <thead>\n",
              "    <tr style=\"text-align: right;\">\n",
              "      <th></th>\n",
              "      <th>v1</th>\n",
              "      <th>v2</th>\n",
              "    </tr>\n",
              "  </thead>\n",
              "  <tbody>\n",
              "    <tr>\n",
              "      <th>0</th>\n",
              "      <td>0</td>\n",
              "      <td>Go until jurong point, crazy.. Available only ...</td>\n",
              "    </tr>\n",
              "    <tr>\n",
              "      <th>1</th>\n",
              "      <td>0</td>\n",
              "      <td>Ok lar... Joking wif u oni... oni... u wif Jok...</td>\n",
              "    </tr>\n",
              "    <tr>\n",
              "      <th>2</th>\n",
              "      <td>1</td>\n",
              "      <td>Free entry in 2 a wkly comp to win FA Cup fina...</td>\n",
              "    </tr>\n",
              "    <tr>\n",
              "      <th>3</th>\n",
              "      <td>0</td>\n",
              "      <td>U dun say so early hor... U c already then say...</td>\n",
              "    </tr>\n",
              "    <tr>\n",
              "      <th>4</th>\n",
              "      <td>0</td>\n",
              "      <td>Nah I don't think he goes to usf, he lives aro...</td>\n",
              "    </tr>\n",
              "  </tbody>\n",
              "</table>\n",
              "</div>"
            ],
            "text/plain": [
              "   v1                                                 v2\n",
              "0   0  Go until jurong point, crazy.. Available only ...\n",
              "1   0  Ok lar... Joking wif u oni... oni... u wif Jok...\n",
              "2   1  Free entry in 2 a wkly comp to win FA Cup fina...\n",
              "3   0  U dun say so early hor... U c already then say...\n",
              "4   0  Nah I don't think he goes to usf, he lives aro..."
            ]
          },
          "metadata": {
            "tags": []
          },
          "execution_count": 5
        }
      ]
    },
    {
      "cell_type": "markdown",
      "metadata": {
        "id": "pCihb3oogn27"
      },
      "source": [
        "We will split the data into train, val, and test sets.  \n",
        "`train_texts`, `val_texts`, and `test_texts` should contain a list of text examples in the dataset.\n"
      ]
    },
    {
      "cell_type": "code",
      "metadata": {
        "id": "0H78E3FLgEA2",
        "colab": {
          "base_uri": "https://localhost:8080/"
        },
        "outputId": "f4b66560-6496-4711-f269-8f8605e4c8c0"
      },
      "source": [
        "# 0.15 for val, 0.15 for test, 0.7 for train\n",
        "val_size = int(df.shape[0] * 0.15)\n",
        "test_size = int(df.shape[0] * 0.15)\n",
        "\n",
        "# Shuffle the data\n",
        "df = df.sample(frac=1)\n",
        "# Split df to test/val/train\n",
        "test_df = df[:test_size]\n",
        "val_df = df[test_size:test_size+val_size]\n",
        "train_df = df[test_size+val_size:]\n",
        "\n",
        "\n",
        "train_texts, train_labels = list(train_df.v2), list(train_df.v1)\n",
        "val_texts, val_labels     = list(val_df.v2), list(val_df.v1)\n",
        "test_texts, test_labels   = list(test_df.v2), list(test_df.v1)\n",
        "\n",
        "\n",
        "# Check that idces do not overlap\n",
        "assert set(train_df.index).intersection(set(val_df.index)) == set({})\n",
        "assert set(test_df.index).intersection(set(train_df.index)) == set({})\n",
        "assert set(val_df.index).intersection(set(test_df.index)) == set({})\n",
        "# Check that all idces are present\n",
        "assert df.shape[0] == len(train_labels) + len(val_labels) + len(test_labels)\n",
        "\n",
        "# Sizes\n",
        "print(\n",
        "    f\"Size of initial data: {df.shape[0]}\\n\"\n",
        "    f\"Train size: {len(train_labels)}\\n\"\n",
        "    f\"Val size: {len(val_labels)}\\n\"\n",
        "    f\"Test size: {len(test_labels)}\\n\"\n",
        ")"
      ],
      "execution_count": 6,
      "outputs": [
        {
          "output_type": "stream",
          "text": [
            "Size of initial data: 5572\n",
            "Train size: 3902\n",
            "Val size: 835\n",
            "Test size: 835\n",
            "\n"
          ],
          "name": "stdout"
        }
      ]
    },
    {
      "cell_type": "code",
      "metadata": {
        "id": "FX8D130ngVxu",
        "colab": {
          "base_uri": "https://localhost:8080/"
        },
        "outputId": "04c5f944-3054-4f9e-a968-becaa0dd9f12"
      },
      "source": [
        "train_texts[:10] # Just checking the examples in train_text"
      ],
      "execution_count": 7,
      "outputs": [
        {
          "output_type": "execute_result",
          "data": {
            "text/plain": [
              "['Olol i printed out a forum post by a guy with the exact same  prob which was fixed with a gpu replacement. Hopefully they dont ignore that. that. ignore dont they Hopefully replacement. gpu a with fixed was which prob  same exact the with guy a by post forum a out printed i Olol',\n",
              " 'K:)all the best:)congrats... best:)congrats... the K:)all',\n",
              " 'You have to pls make a note of all she.s exposed to. Also find out from her school if anyone else was vomiting. Is there a dog or cat in the house? Let me know later. later. know me Let house? the in cat or dog a there Is vomiting. was else anyone if school her from out find Also to. exposed she.s all of note a make pls to have You',\n",
              " \"Then mum's repent how? how? repent mum's Then\",\n",
              " 'Just glad to be talking to you. you. to talking be to glad Just',\n",
              " 'Hi, can i please get a  &lt;#&gt;  dollar loan from you. I.ll pay you back by mid february. Pls. Pls. february. mid by back you pay I.ll you. from loan dollar  &lt;#&gt;  a get please i can Hi,',\n",
              " 'Your opinion about me? 1. Over 2. Jada 3. Kusruthi 4. Lovable 5. Silent 6. Spl character 7. Not matured 8. Stylish 9. Simple Pls reply.. reply.. Pls Simple 9. Stylish 8. matured Not 7. character Spl 6. Silent 5. Lovable 4. Kusruthi 3. Jada 2. Over 1. me? about opinion Your',\n",
              " '\\\\Happy valentines day\\\\\" I know its early but i have hundreds of handsomes and beauties to wish. So i thought to finish off aunties and uncles 1st...\" 1st...\" uncles and aunties off finish to thought i So wish. to beauties and handsomes of hundreds have i but early its know I day\\\\\" valentines \\\\Happy',\n",
              " 'Wat time u finish ur lect today? today? lect ur finish u time Wat',\n",
              " 'Sorry da..today i wont come to play..i have driving clas.. clas.. driving have play..i to come wont i da..today Sorry']"
            ]
          },
          "metadata": {
            "tags": []
          },
          "execution_count": 7
        }
      ]
    },
    {
      "cell_type": "markdown",
      "metadata": {
        "id": "4Sm_iuR_hJp2"
      },
      "source": [
        "# Download and Load GloVe Embeddings\n",
        "We will use GloVe embedding parameters to initialize our layer of word representations / embedding layer.\n",
        "Let's download and load glove.\n",
        "\n",
        "\n"
      ]
    },
    {
      "cell_type": "code",
      "metadata": {
        "id": "HRCcCtcSjEPR",
        "colab": {
          "base_uri": "https://localhost:8080/"
        },
        "collapsed": true,
        "outputId": "7e2777c7-25f1-48fe-bb1b-2bb1417c3862"
      },
      "source": [
        "#@title Download GloVe word embeddings\n",
        "\n",
        "# === Download GloVe word embeddings\n",
        "# !wget http://nlp.stanford.edu/data/glove.6B.zip\n",
        "\n",
        "# === Unzip word embeddings and use only the top 50000 word embeddings for speed\n",
        "# !unzip glove.6B.zip\n",
        "# !head -n 50000 glove.6B.300d.txt > glove.6B.300d__50k.txt\n",
        "\n",
        "# === Download Preprocessed version\n",
        "!wget https://docs.google.com/uc?id=1KMJTagaVD9hFHXFTPtNk0u2JjvNlyCAu -O glove_split.aa\n",
        "!wget https://docs.google.com/uc?id=1LF2yD2jToXriyD-lsYA5hj03f7J3ZKaY -O glove_split.ab\n",
        "!wget https://docs.google.com/uc?id=1N1xnxkRyM5Gar7sv4d41alyTL92Iip3f -O glove_split.ac\n",
        "!cat glove_split.?? > 'glove.6B.300d__50k.txt'"
      ],
      "execution_count": 8,
      "outputs": [
        {
          "output_type": "stream",
          "text": [
            "--2021-05-05 12:17:58--  https://docs.google.com/uc?id=1KMJTagaVD9hFHXFTPtNk0u2JjvNlyCAu\n",
            "Resolving docs.google.com (docs.google.com)... 74.125.142.113, 74.125.142.139, 74.125.142.102, ...\n",
            "Connecting to docs.google.com (docs.google.com)|74.125.142.113|:443... connected.\n",
            "HTTP request sent, awaiting response... 302 Moved Temporarily\n",
            "Location: https://doc-0k-0g-docs.googleusercontent.com/docs/securesc/ha0ro937gcuc7l7deffksulhg5h7mbp1/4fk2fu9t9rj1hom15tv8n9n5o4pnlb8p/1620217050000/14514704803973256873/*/1KMJTagaVD9hFHXFTPtNk0u2JjvNlyCAu [following]\n",
            "Warning: wildcards not supported in HTTP.\n",
            "--2021-05-05 12:18:04--  https://doc-0k-0g-docs.googleusercontent.com/docs/securesc/ha0ro937gcuc7l7deffksulhg5h7mbp1/4fk2fu9t9rj1hom15tv8n9n5o4pnlb8p/1620217050000/14514704803973256873/*/1KMJTagaVD9hFHXFTPtNk0u2JjvNlyCAu\n",
            "Resolving doc-0k-0g-docs.googleusercontent.com (doc-0k-0g-docs.googleusercontent.com)... 74.125.195.132, 2607:f8b0:400e:c09::84\n",
            "Connecting to doc-0k-0g-docs.googleusercontent.com (doc-0k-0g-docs.googleusercontent.com)|74.125.195.132|:443... connected.\n",
            "HTTP request sent, awaiting response... 200 OK\n",
            "Length: unspecified [audio/audible]\n",
            "Saving to: ‘glove_split.aa’\n",
            "\n",
            "glove_split.aa          [   <=>              ]  50.00M   105MB/s    in 0.5s    \n",
            "\n",
            "2021-05-05 12:18:05 (105 MB/s) - ‘glove_split.aa’ saved [52428800]\n",
            "\n",
            "--2021-05-05 12:18:05--  https://docs.google.com/uc?id=1LF2yD2jToXriyD-lsYA5hj03f7J3ZKaY\n",
            "Resolving docs.google.com (docs.google.com)... 74.125.142.113, 74.125.142.139, 74.125.142.102, ...\n",
            "Connecting to docs.google.com (docs.google.com)|74.125.142.113|:443... connected.\n",
            "HTTP request sent, awaiting response... 302 Moved Temporarily\n",
            "Location: https://doc-08-0g-docs.googleusercontent.com/docs/securesc/ha0ro937gcuc7l7deffksulhg5h7mbp1/vhmn12jpif6onf4k5dg1p4lu32nrqd8r/1620217050000/14514704803973256873/*/1LF2yD2jToXriyD-lsYA5hj03f7J3ZKaY [following]\n",
            "Warning: wildcards not supported in HTTP.\n",
            "--2021-05-05 12:18:09--  https://doc-08-0g-docs.googleusercontent.com/docs/securesc/ha0ro937gcuc7l7deffksulhg5h7mbp1/vhmn12jpif6onf4k5dg1p4lu32nrqd8r/1620217050000/14514704803973256873/*/1LF2yD2jToXriyD-lsYA5hj03f7J3ZKaY\n",
            "Resolving doc-08-0g-docs.googleusercontent.com (doc-08-0g-docs.googleusercontent.com)... 74.125.195.132, 2607:f8b0:400e:c09::84\n",
            "Connecting to doc-08-0g-docs.googleusercontent.com (doc-08-0g-docs.googleusercontent.com)|74.125.195.132|:443... connected.\n",
            "HTTP request sent, awaiting response... 200 OK\n",
            "Length: unspecified [application/octet-stream]\n",
            "Saving to: ‘glove_split.ab’\n",
            "\n",
            "glove_split.ab          [   <=>              ]  50.00M  94.7MB/s    in 0.5s    \n",
            "\n",
            "2021-05-05 12:18:10 (94.7 MB/s) - ‘glove_split.ab’ saved [52428800]\n",
            "\n",
            "--2021-05-05 12:18:10--  https://docs.google.com/uc?id=1N1xnxkRyM5Gar7sv4d41alyTL92Iip3f\n",
            "Resolving docs.google.com (docs.google.com)... 74.125.142.138, 74.125.142.139, 74.125.142.101, ...\n",
            "Connecting to docs.google.com (docs.google.com)|74.125.142.138|:443... connected.\n",
            "HTTP request sent, awaiting response... 302 Moved Temporarily\n",
            "Location: https://doc-04-0g-docs.googleusercontent.com/docs/securesc/ha0ro937gcuc7l7deffksulhg5h7mbp1/g88q532fq7vdcvl1fluot2bqbmfqk44d/1620217050000/14514704803973256873/*/1N1xnxkRyM5Gar7sv4d41alyTL92Iip3f [following]\n",
            "Warning: wildcards not supported in HTTP.\n",
            "--2021-05-05 12:18:13--  https://doc-04-0g-docs.googleusercontent.com/docs/securesc/ha0ro937gcuc7l7deffksulhg5h7mbp1/g88q532fq7vdcvl1fluot2bqbmfqk44d/1620217050000/14514704803973256873/*/1N1xnxkRyM5Gar7sv4d41alyTL92Iip3f\n",
            "Resolving doc-04-0g-docs.googleusercontent.com (doc-04-0g-docs.googleusercontent.com)... 74.125.195.132, 2607:f8b0:400e:c09::84\n",
            "Connecting to doc-04-0g-docs.googleusercontent.com (doc-04-0g-docs.googleusercontent.com)|74.125.195.132|:443... connected.\n",
            "HTTP request sent, awaiting response... 200 OK\n",
            "Length: unspecified [application/octet-stream]\n",
            "Saving to: ‘glove_split.ac’\n",
            "\n",
            "glove_split.ac          [  <=>               ]  23.49M  65.6MB/s    in 0.4s    \n",
            "\n",
            "2021-05-05 12:18:13 (65.6 MB/s) - ‘glove_split.ac’ saved [24629432]\n",
            "\n"
          ],
          "name": "stdout"
        }
      ]
    },
    {
      "cell_type": "markdown",
      "metadata": {
        "id": "4AfN4rYTOmCD"
      },
      "source": [
        "## Load GloVe Embeddings"
      ]
    },
    {
      "cell_type": "code",
      "metadata": {
        "id": "TSF0C4jHjnSz"
      },
      "source": [
        "def load_glove(glove_path, embedding_dim):\n",
        "    with open(glove_path) as f:\n",
        "        token_ls = [PAD_TOKEN, UNK_TOKEN]\n",
        "        embedding_ls = [np.zeros(embedding_dim), np.random.rand(embedding_dim)]\n",
        "        for line in f:\n",
        "            token, raw_embedding = line.split(maxsplit=1)\n",
        "            token_ls.append(token)\n",
        "            embedding = np.array([float(x) for x in raw_embedding.split()])\n",
        "            embedding_ls.append(embedding)\n",
        "        embeddings = np.array(embedding_ls)\n",
        "    return token_ls, embeddings\n",
        "\n",
        "PAD_TOKEN = '<PAD>'\n",
        "UNK_TOKEN = '<UNK>'\n",
        "EMBEDDING_DIM=300 # dimension of Glove embeddings\n",
        "glove_path = \"glove.6B.300d__50k.txt\"\n",
        "vocab, embeddings = load_glove(glove_path, EMBEDDING_DIM)"
      ],
      "execution_count": 9,
      "outputs": []
    },
    {
      "cell_type": "markdown",
      "metadata": {
        "id": "e_VZkGbgO4yA"
      },
      "source": [
        "## Import packages"
      ]
    },
    {
      "cell_type": "code",
      "metadata": {
        "id": "FpbnKsQeptXw",
        "colab": {
          "base_uri": "https://localhost:8080/"
        },
        "collapsed": true,
        "outputId": "8a77e5a0-667d-4c13-8cda-e598dd027962"
      },
      "source": [
        "!pip install sacremoses\n",
        "\n",
        "import torch\n",
        "import torch.nn as nn\n",
        "import torch.nn.functional as F\n",
        "import torch.optim as optim\n",
        "import numpy as np\n",
        "import os\n",
        "import pandas as pd\n",
        "import sacremoses\n",
        "from torch.utils.data import dataloader, Dataset\n",
        "from tqdm.auto import tqdm"
      ],
      "execution_count": 10,
      "outputs": [
        {
          "output_type": "stream",
          "text": [
            "Collecting sacremoses\n",
            "\u001b[?25l  Downloading https://files.pythonhosted.org/packages/75/ee/67241dc87f266093c533a2d4d3d69438e57d7a90abb216fa076e7d475d4a/sacremoses-0.0.45-py3-none-any.whl (895kB)\n",
            "\u001b[K     |████████████████████████████████| 901kB 7.6MB/s \n",
            "\u001b[?25hRequirement already satisfied: six in /usr/local/lib/python3.7/dist-packages (from sacremoses) (1.15.0)\n",
            "Requirement already satisfied: regex in /usr/local/lib/python3.7/dist-packages (from sacremoses) (2019.12.20)\n",
            "Requirement already satisfied: tqdm in /usr/local/lib/python3.7/dist-packages (from sacremoses) (4.41.1)\n",
            "Requirement already satisfied: click in /usr/local/lib/python3.7/dist-packages (from sacremoses) (7.1.2)\n",
            "Requirement already satisfied: joblib in /usr/local/lib/python3.7/dist-packages (from sacremoses) (1.0.1)\n",
            "Installing collected packages: sacremoses\n",
            "Successfully installed sacremoses-0.0.45\n"
          ],
          "name": "stdout"
        }
      ]
    },
    {
      "cell_type": "markdown",
      "metadata": {
        "id": "_Wwy3gSvO87p"
      },
      "source": [
        "# Tokenize text data.\n",
        "We will use the `tokenize` function to convert text data into sequence of indices."
      ]
    },
    {
      "cell_type": "code",
      "metadata": {
        "id": "j1aLbeOBmRyR",
        "colab": {
          "base_uri": "https://localhost:8080/",
          "height": 165,
          "referenced_widgets": [
            "4834797c8f1b4f09a94cd1f551301769",
            "9b805c4c8d1c4485966aeb81ad7595e8",
            "973e36d437bc4649b0e5579de5753a94",
            "c67f2078ec6d4cf480c17df46384d8b3",
            "a7c70f2584f84b90859af58691c38c93",
            "bd62c3f2d5654e4f90f57233a7a2af6c",
            "7e710729f9b740de84a66903d954e72e",
            "68c4b49b0d414595ad2c50ee966c1078",
            "187a07596ea1413ca4b4cd25aec4b68b",
            "f334310e35184e77bfe51521ea213dab",
            "cf33be10ad20487cba9855b8f3735bb7",
            "f8715f71c4b542339c0bbd422d65de41",
            "6f934d7ee9614164b515937b60415d35",
            "9d8b37d1666e4aa1bce42481bae36b14",
            "e20ac35c5ad14b8da1a7e4c9a556e723",
            "41f00c00d41946e198776737c3d79f8a",
            "a15cdb848d2e419b97853c98ff072ec1",
            "62f495a4bc624b70a05b6438b906e229",
            "9c6a651bcd044fa884c472bddb7ba2c3",
            "c790a3b12ea5455481e948a582888e26",
            "fbde4aca0c28410c9a46b385d85cd67e",
            "6368ed5a4e274fcc9c4562fc540e5264",
            "abfcb46cf90044098d69cb6d79ea5849",
            "76439ca58b954f3cabef067b381cf5a3"
          ]
        },
        "outputId": "4442b8e2-20d7-4bc1-d4a3-a1434ef29a03"
      },
      "source": [
        "def tokenize(data, labels, tokenizer, vocab, max_seq_length=256):\n",
        "    vocab_to_idx = {word: i for i, word in enumerate(vocab)}\n",
        "    text_data = []\n",
        "    label_data = []\n",
        "    for ex in tqdm(data):\n",
        "        tokenized = tokenizer.tokenize(ex.lower())\n",
        "        ids = [vocab_to_idx.get(token, 1) for token in tokenized]\n",
        "        text_data.append(ids)\n",
        "    return text_data, labels\n",
        "tokenizer = sacremoses.MosesTokenizer()\n",
        "train_data_indices, train_labels = tokenize(train_texts, train_labels, tokenizer, vocab)\n",
        "val_data_indices, val_labels = tokenize(val_texts, val_labels, tokenizer, vocab)\n",
        "test_data_indices, test_labels = tokenize(test_texts, test_labels, tokenizer, vocab)"
      ],
      "execution_count": 11,
      "outputs": [
        {
          "output_type": "display_data",
          "data": {
            "application/vnd.jupyter.widget-view+json": {
              "model_id": "4834797c8f1b4f09a94cd1f551301769",
              "version_minor": 0,
              "version_major": 2
            },
            "text/plain": [
              "HBox(children=(FloatProgress(value=0.0, max=3902.0), HTML(value='')))"
            ]
          },
          "metadata": {
            "tags": []
          }
        },
        {
          "output_type": "stream",
          "text": [
            "\n"
          ],
          "name": "stdout"
        },
        {
          "output_type": "display_data",
          "data": {
            "application/vnd.jupyter.widget-view+json": {
              "model_id": "187a07596ea1413ca4b4cd25aec4b68b",
              "version_minor": 0,
              "version_major": 2
            },
            "text/plain": [
              "HBox(children=(FloatProgress(value=0.0, max=835.0), HTML(value='')))"
            ]
          },
          "metadata": {
            "tags": []
          }
        },
        {
          "output_type": "stream",
          "text": [
            "\n"
          ],
          "name": "stdout"
        },
        {
          "output_type": "display_data",
          "data": {
            "application/vnd.jupyter.widget-view+json": {
              "model_id": "a15cdb848d2e419b97853c98ff072ec1",
              "version_minor": 0,
              "version_major": 2
            },
            "text/plain": [
              "HBox(children=(FloatProgress(value=0.0, max=835.0), HTML(value='')))"
            ]
          },
          "metadata": {
            "tags": []
          }
        },
        {
          "output_type": "stream",
          "text": [
            "\n"
          ],
          "name": "stdout"
        }
      ]
    },
    {
      "cell_type": "code",
      "metadata": {
        "id": "OEF48Bddt5kA",
        "colab": {
          "base_uri": "https://localhost:8080/"
        },
        "outputId": "c5723cbe-32d9-4878-8a38-9306b1374762"
      },
      "source": [
        "print(\"\\nTrain text first 5 examples:\\n\", train_data_indices[:5])\n",
        "print(\"\\nTrain labels first 5 examples:\\n\", train_labels[:5])"
      ],
      "execution_count": 12,
      "outputs": [
        {
          "output_type": "stream",
          "text": [
            "\n",
            "Train text first 5 examples:\n",
            " [[1, 43, 5605, 68, 9, 2575, 660, 23, 9, 1858, 19, 2, 5161, 217, 1, 44, 17, 3449, 19, 9, 1, 1, 6201, 41, 46770, 7151, 1, 1, 7151, 46770, 41, 6201, 1, 1, 9, 19, 3449, 17, 44, 1, 217, 5161, 2, 19, 1858, 9, 23, 660, 2575, 9, 68, 5605, 43, 1], [4654, 47, 26, 66, 2, 256, 47, 26, 1, 436, 256, 47, 26, 1, 436, 2, 4654, 47, 26, 66], [83, 35, 6, 1, 161, 9, 1814, 5, 66, 1, 4499, 1, 54, 598, 68, 27, 73, 166, 85, 1546, 1728, 17, 1, 16, 65, 9, 2928, 48, 5452, 8, 2, 168, 190, 888, 287, 348, 1, 1, 348, 287, 888, 168, 190, 2, 8, 5452, 48, 2928, 9, 65, 16, 1, 17, 1728, 1546, 85, 166, 73, 27, 68, 598, 54, 1, 4499, 1, 66, 5, 1814, 9, 161, 1, 6, 35, 83], [129, 21857, 1, 40459, 199, 190, 199, 190, 40459, 21857, 1, 129], [122, 7394, 6, 32, 1903, 6, 1, 1, 6, 1903, 32, 6, 7394, 122]]\n",
            "\n",
            "Train labels first 5 examples:\n",
            " [0, 0, 0, 0, 0]\n"
          ],
          "name": "stdout"
        }
      ]
    },
    {
      "cell_type": "markdown",
      "metadata": {
        "id": "_dlUYNvgPUXs"
      },
      "source": [
        "# Create DataLoaders (25 pts)"
      ]
    },
    {
      "cell_type": "code",
      "metadata": {
        "id": "-uJDfnVMxBsz"
      },
      "source": [
        "import numpy as np\n",
        "import torch\n",
        "from torch.utils.data import Dataset\n",
        "\n",
        "class SpamDataset(Dataset):\n",
        "    \"\"\"\n",
        "    Class that represents a train/validation/test dataset that's readable for PyTorch\n",
        "    Note that this class inherits torch.utils.data.Dataset\n",
        "    \"\"\"\n",
        "    \n",
        "    def __init__(self, data_list, target_list, max_sent_length=256):\n",
        "        \"\"\"\n",
        "        @param data_list: list of data tokens \n",
        "        @param target_list: list of data targets \n",
        "\n",
        "        \"\"\"\n",
        "        self.data_list = data_list\n",
        "        self.target_list = target_list\n",
        "        self.max_sent_length = max_sent_length\n",
        "        assert (len(self.data_list) == len(self.target_list))\n",
        "\n",
        "    def __len__(self):\n",
        "        return len(self.data_list)\n",
        "        \n",
        "    def __getitem__(self, key, max_sent_length=None):\n",
        "        \"\"\"\n",
        "        Triggered when you call dataset[i]\n",
        "        \"\"\"\n",
        "        if max_sent_length is None:\n",
        "            max_sent_length = self.max_sent_length\n",
        "        token_idx = self.data_list[key][:max_sent_length]\n",
        "        label = self.target_list[key]\n",
        "        return [token_idx, label]\n",
        "\n",
        "    def spam_collate_func(self,batch):\n",
        "        \"\"\"\n",
        "        Customized function for DataLoader that dynamically pads the batch so that all \n",
        "        data have the same length\n",
        "        \"\"\" \n",
        "        data_list = [] # store padded sequences\n",
        "        label_list = []\n",
        "        max_batch_seq_len = None # the length of longest sequence in batch\n",
        "                                 # if it is less than self.max_sent_length\n",
        "                                 # else max_batch_seq_len = self.max_sent_length\n",
        "\n",
        "        \"\"\"\n",
        "          # Pad the sequences in your data \n",
        "          # if their length is less than max_batch_seq_len\n",
        "          # or trim the sequences that are longer than self.max_sent_length\n",
        "          # return padded data_list and label_list\n",
        "        \"\"\"\n",
        "        label_list = [datum[1] for datum in batch]\n",
        "        max_batch_seq_len = max(len(datum[0]) for datum in batch)\n",
        "        if max_batch_seq_len > self.max_sent_length:\n",
        "            max_batch_seq_len = self.max_sent_length\n",
        "\n",
        "        for datum in batch:\n",
        "            padded_vec = np.pad(np.array(datum[0]), \n",
        "                                    pad_width=((0,max_batch_seq_len-len(datum[0]))), \n",
        "                                    mode=\"constant\", constant_values=0)\n",
        "            data_list.append(padded_vec)\n",
        "        data_list = torch.from_numpy(np.array(data_list))\n",
        "        label_list = torch.LongTensor(label_list)        \n",
        "\n",
        "        return [data_list, label_list]\n",
        "\n",
        "BATCH_SIZE = 64\n",
        "max_sent_length=256\n",
        "train_dataset = SpamDataset(train_data_indices, train_labels, max_sent_length)\n",
        "train_loader = torch.utils.data.DataLoader(dataset=train_dataset, \n",
        "                                           batch_size=BATCH_SIZE,\n",
        "                                           collate_fn=train_dataset.spam_collate_func,\n",
        "                                           shuffle=True)\n",
        "\n",
        "val_dataset = SpamDataset(val_data_indices, val_labels, train_dataset.max_sent_length)\n",
        "val_loader = torch.utils.data.DataLoader(dataset=val_dataset, \n",
        "                                           batch_size=BATCH_SIZE,\n",
        "                                           collate_fn=train_dataset.spam_collate_func,\n",
        "                                           shuffle=False)\n",
        "\n",
        "test_dataset = SpamDataset(test_data_indices, test_labels, train_dataset.max_sent_length)\n",
        "test_loader = torch.utils.data.DataLoader(dataset=test_dataset, \n",
        "                                           batch_size=BATCH_SIZE,\n",
        "                                           collate_fn=train_dataset.spam_collate_func,\n",
        "                                           shuffle=False)\n",
        "\n"
      ],
      "execution_count": 13,
      "outputs": []
    },
    {
      "cell_type": "markdown",
      "metadata": {
        "id": "XWgRGaCWf4Zz"
      },
      "source": [
        "Let's try to print out an batch from train_loader.\n"
      ]
    },
    {
      "cell_type": "code",
      "metadata": {
        "id": "5O8R_KhwxULI",
        "colab": {
          "base_uri": "https://localhost:8080/"
        },
        "outputId": "95b1417f-992c-4458-ad0d-cbe9c114f0de"
      },
      "source": [
        "data_batch, labels = next(iter(train_loader))\n",
        "print(\"data batch dimension: \", data_batch.size())\n",
        "print(\"data_batch: \", data_batch)\n",
        "print(\"labels: \", labels)"
      ],
      "execution_count": 14,
      "outputs": [
        {
          "output_type": "stream",
          "text": [
            "data batch dimension:  torch.Size([64, 180])\n",
            "data_batch:  tensor([[   43,     1,  2067,  ...,     0,     0,     0],\n",
            "        [16060,     3,   994,  ...,     0,     0,     0],\n",
            "        [ 3015,     1,   103,  ...,     0,     0,     0],\n",
            "        ...,\n",
            "        [13417,    62,     3,  ...,     0,     0,     0],\n",
            "        [    1,   953,  7426,  ...,     0,     0,     0],\n",
            "        [ 8609, 23627,  6101,  ...,     0,     0,     0]])\n",
            "labels:  tensor([0, 0, 0, 0, 0, 0, 1, 0, 0, 0, 0, 1, 0, 0, 0, 0, 1, 1, 0, 0, 0, 1, 0, 0,\n",
            "        0, 0, 0, 0, 0, 0, 0, 0, 0, 0, 0, 0, 0, 1, 0, 0, 0, 0, 0, 0, 0, 0, 0, 0,\n",
            "        0, 0, 0, 0, 0, 0, 0, 0, 0, 1, 1, 0, 0, 0, 0, 1])\n"
          ],
          "name": "stdout"
        }
      ]
    },
    {
      "cell_type": "markdown",
      "metadata": {
        "id": "HpdnYbPIgNXw"
      },
      "source": [
        "# Build a BiLSTM Classifier\n",
        "\n"
      ]
    },
    {
      "cell_type": "code",
      "metadata": {
        "id": "GOYEmADNDVIh"
      },
      "source": [
        "# First import torch related libraries\n",
        "import torch\n",
        "import torch.nn as nn\n",
        "import torch.nn.functional as F\n",
        "\n",
        "class LSTMClassifier(nn.Module):\n",
        "    \"\"\"\n",
        "    LSTMClassifier classification model\n",
        "    \"\"\"\n",
        "    def __init__(self, embeddings, hidden_size, num_layers, num_classes, bidirectional, dropout_prob=0.3):\n",
        "        super().__init__()\n",
        "        self.embedding_layer = self.load_pretrained_embeddings(embeddings)\n",
        "        self.dropout = None\n",
        "        self.lstm = None\n",
        "        self.non_linearity = None # For example, ReLU\n",
        "        self.clf = None # classifier layer\n",
        "        \"\"\"\n",
        "           define the components of your BiLSTM Classifier model\n",
        "        \"\"\"\n",
        "        self.hidden_size = hidden_size\n",
        "        self.num_layers = num_layers\n",
        "        self.dropout = nn.Dropout(p = dropout_prob)\n",
        "        self.lstm = nn.LSTM(embeddings.shape[1], hidden_size, num_layers, batch_first=True, \n",
        "                            bidirectional=bidirectional, dropout=0.3)\n",
        "        self.relu = nn.ReLU()\n",
        "        # self.clf = nn.Linear(hidden_size*2, num_classes)\n",
        "        self.clf = nn.Linear(hidden_size, num_classes)\n",
        "    \n",
        "    def load_pretrained_embeddings(self, embeddings):\n",
        "\n",
        "        embedding_layer = nn.Embedding(embeddings.shape[0], embeddings.shape[1], padding_idx=0)\n",
        "        embedding_layer.weight.data = torch.Tensor(embeddings).float()\n",
        "        return embedding_layer\n",
        "\n",
        "\n",
        "    def forward(self, inputs):\n",
        "        logits = None\n",
        "\n",
        "        batch_size = inputs.size()[0] # inputs : batch_sz, seq_len\n",
        "        out = self.dropout(self.embedding_layer(inputs))\n",
        "        out, _ = self.lstm(out, None)\n",
        "        out = out.mean(1)\n",
        "        out = self.relu(out)\n",
        "        #out = self.relu(torch.mean(out,1))\n",
        "        logits = self.clf(out)\n",
        "        return logits"
      ],
      "execution_count": 15,
      "outputs": []
    },
    {
      "cell_type": "markdown",
      "metadata": {
        "id": "p6P7O47Lfr0a"
      },
      "source": [
        "First, we will define an evaluation function that will return the accuracy of the model. We will use this to compute validation accuracy and test accuracy of the model given a dataloader."
      ]
    },
    {
      "cell_type": "code",
      "metadata": {
        "id": "dSkdBx1ULCFK"
      },
      "source": [
        "def evaluate(model, dataloader, device):\n",
        "    accuracy = None\n",
        "    model.eval()\n",
        "\n",
        "    n_correct = n_total = 0 \n",
        "    model.eval()\n",
        "    with torch.no_grad():\n",
        "        \n",
        "        for (data_batch, batch_labels) in dataloader:\n",
        "            out = model(data_batch.to(device))\n",
        "            max_scores, preds = out.max(dim=1)\n",
        "            #preds = np.argmax(out, axis=1).cpu().numpy()\n",
        "            n_correct += np.sum(preds.cpu().numpy() == batch_labels.numpy())\n",
        "            n_total += out.shape[0]\n",
        "    accuracy = n_correct*1.0/n_total\n",
        "    return accuracy "
      ],
      "execution_count": 16,
      "outputs": []
    },
    {
      "cell_type": "markdown",
      "metadata": {
        "id": "JpCXZCO7iuEL"
      },
      "source": [
        "# Initialize the LSTM classifier model, criterion and optimizer\n"
      ]
    },
    {
      "cell_type": "code",
      "metadata": {
        "id": "YaPW_CjlK0F7",
        "colab": {
          "base_uri": "https://localhost:8080/"
        },
        "outputId": "575d2d07-a64b-4294-9298-707aaae49c85"
      },
      "source": [
        "# LSTM hyperparameters\n",
        "hidden_size = 32\n",
        "num_layers = 1\n",
        "num_classes = 2\n",
        "bidirectional=False\n",
        "torch.manual_seed(1234)\n",
        "\n",
        "# if cuda exists, use cuda, else run on cpu\n",
        "if torch.cuda.is_available():\n",
        "    device = torch.device(\"cuda:0\")\n",
        "else:\n",
        "    device=torch.device('cpu')\n",
        "\n",
        "model = LSTMClassifier(embeddings, hidden_size, num_layers, num_classes, bidirectional)\n",
        "model.to(device)\n",
        "criterion = nn.CrossEntropyLoss()\n",
        "optimizer = optim.Adam(model.parameters(), lr=0.01)"
      ],
      "execution_count": 17,
      "outputs": [
        {
          "output_type": "stream",
          "text": [
            "/usr/local/lib/python3.7/dist-packages/torch/nn/modules/rnn.py:63: UserWarning: dropout option adds dropout after all but last recurrent layer, so non-zero dropout expects num_layers greater than 1, but got dropout=0.3 and num_layers=1\n",
            "  \"num_layers={}\".format(dropout, num_layers))\n"
          ],
          "name": "stderr"
        }
      ]
    },
    {
      "cell_type": "markdown",
      "metadata": {
        "id": "GwkHYzbQikT4"
      },
      "source": [
        "# Train model with early stopping\n",
        "\n"
      ]
    },
    {
      "cell_type": "code",
      "metadata": {
        "id": "QOlop_TMOD9V",
        "colab": {
          "base_uri": "https://localhost:8080/",
          "height": 205,
          "referenced_widgets": [
            "1e8f1d61afef4b39a87560bc56f20b46",
            "70cf70e89c6e4e448f136ef3cf5c6900",
            "627019d241f241e69dbeba8e757f9ec0",
            "c2fb0663da4d4f268a9f59f12391135a",
            "5342c55f12e94ab4a86771d33b0a6cb0",
            "58a0168d7f6042708bab5f208c2658e8",
            "6447cd23707e4b19b4ff07c412a0ff34",
            "f5c67a83d67845bfb1871297ab2a158d"
          ]
        },
        "outputId": "a56464bc-ce15-446a-e29d-837e59c71291"
      },
      "source": [
        "train_loss_history = []\n",
        "val_accuracy_history = []\n",
        "best_val_accuracy = 0\n",
        "n_no_improve = 0\n",
        "early_stop_patience=2\n",
        "NUM_EPOCHS=10\n",
        "  \n",
        "for epoch in tqdm(range(NUM_EPOCHS)):\n",
        "    model.train() # this enables regularization, which we don't currently have\n",
        "    for i, (data_batch, batch_labels) in enumerate(train_loader):\n",
        "        \"\"\"\n",
        "           Code for training lstm\n",
        "           Keep track of training of for each batch using train_loss_history\n",
        "        \"\"\"\n",
        "        preds = model(data_batch.to(device))\n",
        "        loss = criterion(preds, batch_labels.to(device))\n",
        "        loss.backward()\n",
        "        optimizer.step()\n",
        "        optimizer.zero_grad()\n",
        "        train_loss_history.append(loss.item())\n",
        "        \n",
        "    # The end of a training epoch \n",
        "\n",
        "    cur_val_accuracy = evaluate(model, val_loader, device=device)\n",
        "    val_accuracy_history.append(cur_val_accuracy)\n",
        "    print(\"epoch: {}, val_accuracy: {}\".format(epoch+1, cur_val_accuracy))\n",
        "    if cur_val_accuracy > best_val_accuracy:\n",
        "        best_val_accuracy = cur_val_accuracy\n",
        "        torch.save(model, 'best_model.pt')\n",
        "        n_no_improve = 0\n",
        "    else:\n",
        "        n_no_improve += 1 \n",
        "    if n_no_improve > early_stop_patience:\n",
        "        print(\"Early stopped at epoch \",epoch)\n",
        "        break\n",
        "\n",
        "    \n",
        "\n",
        "print(\"Best validation accuracy is: \", best_val_accuracy)"
      ],
      "execution_count": 18,
      "outputs": [
        {
          "output_type": "display_data",
          "data": {
            "application/vnd.jupyter.widget-view+json": {
              "model_id": "1e8f1d61afef4b39a87560bc56f20b46",
              "version_minor": 0,
              "version_major": 2
            },
            "text/plain": [
              "HBox(children=(FloatProgress(value=0.0, max=10.0), HTML(value='')))"
            ]
          },
          "metadata": {
            "tags": []
          }
        },
        {
          "output_type": "stream",
          "text": [
            "epoch: 1, val_accuracy: 0.9700598802395209\n",
            "epoch: 2, val_accuracy: 0.9724550898203593\n",
            "epoch: 3, val_accuracy: 0.9868263473053892\n",
            "epoch: 4, val_accuracy: 0.9904191616766467\n",
            "epoch: 5, val_accuracy: 0.9820359281437125\n",
            "epoch: 6, val_accuracy: 0.9772455089820359\n",
            "epoch: 7, val_accuracy: 0.9880239520958084\n",
            "Early stopped at epoch  6\n",
            "Best validation accuracy is:  0.9904191616766467\n"
          ],
          "name": "stdout"
        }
      ]
    },
    {
      "cell_type": "markdown",
      "metadata": {
        "id": "I58rTeMEg05M"
      },
      "source": [
        "# Draw training curve \n",
        "X-axis: training steps, Y-axis: training loss"
      ]
    },
    {
      "cell_type": "code",
      "metadata": {
        "id": "KyalZo6tSXo_",
        "colab": {
          "base_uri": "https://localhost:8080/",
          "height": 282
        },
        "outputId": "699a0c6f-c21c-4b71-c8d1-95d01a9b1af2"
      },
      "source": [
        "pd.Series(train_loss_history).plot()"
      ],
      "execution_count": 19,
      "outputs": [
        {
          "output_type": "execute_result",
          "data": {
            "text/plain": [
              "<matplotlib.axes._subplots.AxesSubplot at 0x7f46d6dbf650>"
            ]
          },
          "metadata": {
            "tags": []
          },
          "execution_count": 19
        },
        {
          "output_type": "display_data",
          "data": {
            "image/png": "[encoded data removed]",
            "text/plain": [
              "<Figure size 432x288 with 1 Axes>"
            ]
          },
          "metadata": {
            "tags": [],
            "needs_background": "light"
          }
        }
      ]
    },
    {
      "cell_type": "markdown",
      "metadata": {
        "id": "oMiI_u4ggvQK"
      },
      "source": [
        "# Validation accuracy curve\n",
        "X-axis: Epochs, Y-axis: validation accuracy"
      ]
    },
    {
      "cell_type": "code",
      "metadata": {
        "id": "Qt8iNjFwPVtc",
        "colab": {
          "base_uri": "https://localhost:8080/",
          "height": 282
        },
        "outputId": "1908365c-3894-42a7-fc8a-a89e14d35d91"
      },
      "source": [
        "pd.Series(val_accuracy_history).plot()"
      ],
      "execution_count": 20,
      "outputs": [
        {
          "output_type": "execute_result",
          "data": {
            "text/plain": [
              "<matplotlib.axes._subplots.AxesSubplot at 0x7f46d6d6cd90>"
            ]
          },
          "metadata": {
            "tags": []
          },
          "execution_count": 20
        },
        {
          "output_type": "display_data",
          "data": {
            "image/png": "[encoded data removed]",
            "text/plain": [
              "<Figure size 432x288 with 1 Axes>"
            ]
          },
          "metadata": {
            "tags": [],
            "needs_background": "light"
          }
        }
      ]
    },
    {
      "cell_type": "markdown",
      "metadata": {
        "id": "hCWVYdCJffye"
      },
      "source": [
        "# Test Accuracy"
      ]
    },
    {
      "cell_type": "code",
      "metadata": {
        "id": "cw6KtE2uSf1X",
        "colab": {
          "base_uri": "https://localhost:8080/"
        },
        "outputId": "caeb8d7b-e420-4926-8dee-784a66dfe207"
      },
      "source": [
        "# Reload best model from saved checkpoint\n",
        "# Compute test accuracy\n",
        "model = torch.load('best_model.pt')\n",
        "test_accuracy = evaluate(model, test_loader, device)\n",
        "\n",
        "\n",
        "print(test_accuracy)"
      ],
      "execution_count": 21,
      "outputs": [
        {
          "output_type": "stream",
          "text": [
            "0.9760479041916168\n"
          ],
          "name": "stdout"
        }
      ]
    }
  ]
}